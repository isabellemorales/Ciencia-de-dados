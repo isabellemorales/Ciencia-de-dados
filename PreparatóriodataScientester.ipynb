{
  "nbformat": 4,
  "nbformat_minor": 0,
  "metadata": {
    "colab": {
      "provenance": [],
      "authorship_tag": "ABX9TyPELxPvGmFeeyZUJZSRorwu",
      "include_colab_link": true
    },
    "kernelspec": {
      "name": "python3",
      "display_name": "Python 3"
    },
    "language_info": {
      "name": "python"
    }
  },
  "cells": [
    {
      "cell_type": "markdown",
      "metadata": {
        "id": "view-in-github",
        "colab_type": "text"
      },
      "source": [
        "<a href=\"https://colab.research.google.com/github/isabellemorales/Ciencia-de-dados/blob/main/Preparat%C3%B3riodataScientester.ipynb\" target=\"_parent\"><img src=\"https://colab.research.google.com/assets/colab-badge.svg\" alt=\"Open In Colab\"/></a>"
      ]
    },
    {
      "cell_type": "markdown",
      "source": [
        "Formatação e escrita em python"
      ],
      "metadata": {
        "id": "8C__BmoYJ_Ds"
      }
    },
    {
      "cell_type": "code",
      "execution_count": null,
      "metadata": {
        "colab": {
          "base_uri": "https://localhost:8080/"
        },
        "id": "HZY8KxhaI7uJ",
        "outputId": "2be9961e-9727-4c2f-aa38-4fefc49a8ce1"
      },
      "outputs": [
        {
          "output_type": "stream",
          "name": "stdout",
          "text": [
            "1\n",
            "1\n",
            "2\n",
            "Aqui acabou o for do j\n",
            "1\n",
            "2\n",
            "3\n",
            "Aqui acabou o for do j\n",
            "1\n",
            "3\n",
            "4\n",
            "Aqui acabou o for do j\n",
            "1\n",
            "4\n",
            "5\n",
            "Aqui acabou o for do j\n",
            "1\n",
            "5\n",
            "6\n",
            "Aqui acabou o for do j\n",
            "1\n",
            "2\n",
            "1\n",
            "3\n",
            "Aqui acabou o for do j\n",
            "2\n",
            "2\n",
            "4\n",
            "Aqui acabou o for do j\n",
            "2\n",
            "3\n",
            "5\n",
            "Aqui acabou o for do j\n",
            "2\n",
            "4\n",
            "6\n",
            "Aqui acabou o for do j\n",
            "2\n",
            "5\n",
            "7\n",
            "Aqui acabou o for do j\n",
            "2\n",
            "3\n",
            "1\n",
            "4\n",
            "Aqui acabou o for do j\n",
            "3\n",
            "2\n",
            "5\n",
            "Aqui acabou o for do j\n",
            "3\n",
            "3\n",
            "6\n",
            "Aqui acabou o for do j\n",
            "3\n",
            "4\n",
            "7\n",
            "Aqui acabou o for do j\n",
            "3\n",
            "5\n",
            "8\n",
            "Aqui acabou o for do j\n",
            "3\n",
            "4\n",
            "1\n",
            "5\n",
            "Aqui acabou o for do j\n",
            "4\n",
            "2\n",
            "6\n",
            "Aqui acabou o for do j\n",
            "4\n",
            "3\n",
            "7\n",
            "Aqui acabou o for do j\n",
            "4\n",
            "4\n",
            "8\n",
            "Aqui acabou o for do j\n",
            "4\n",
            "5\n",
            "9\n",
            "Aqui acabou o for do j\n",
            "4\n",
            "5\n",
            "1\n",
            "6\n",
            "Aqui acabou o for do j\n",
            "5\n",
            "2\n",
            "7\n",
            "Aqui acabou o for do j\n",
            "5\n",
            "3\n",
            "8\n",
            "Aqui acabou o for do j\n",
            "5\n",
            "4\n",
            "9\n",
            "Aqui acabou o for do j\n",
            "5\n",
            "5\n",
            "10\n",
            "Aqui acabou o for do j\n",
            "5\n",
            "fim do loop\n"
          ]
        }
      ],
      "source": [
        "for i in [1,2,3,4,5]:\n",
        "  print (i) #primeira linha para o boco 'for i'\n",
        "  for j in [1,2,3,4,5]:\n",
        "    print (j) #primeira linha para o blovo for j\n",
        "    print (i+j) #ultima linha para o bloco for j\n",
        "    print (\"Aqui acabou o for do j\")\n",
        "    print (i) #ultima linha para o bloco for i\n",
        "\n",
        "print (\"fim do loop\")"
      ]
    },
    {
      "cell_type": "markdown",
      "source": [
        "**Módulos**"
      ],
      "metadata": {
        "id": "pC5UNws3NHGa"
      }
    },
    {
      "cell_type": "code",
      "source": [
        "import re #importação de gráfico\n",
        "my_regex = re.compile(\"[0-9]+\",re.I)"
      ],
      "metadata": {
        "id": "EAgU9CLyNGsT"
      },
      "execution_count": null,
      "outputs": []
    },
    {
      "cell_type": "code",
      "source": [
        "import matplotlib.pyplot as plt #serve para fazer gráfico"
      ],
      "metadata": {
        "id": "hkLlmG2hNmdD"
      },
      "execution_count": null,
      "outputs": []
    },
    {
      "cell_type": "markdown",
      "source": [
        "Funções"
      ],
      "metadata": {
        "id": "0vYgS2y0N_QS"
      }
    },
    {
      "cell_type": "code",
      "source": [
        "def dobro(x):\n",
        "  \"\"\" AQUI ONDE VOCÊ COLOCA UM DOCstring opcional que explica o que sua função faz\n",
        "  por exemplo, esta função multiplica sua entrada por 2 \"\"\"\n",
        "  return x * 2\n",
        "\n",
        "  a = int(input(\"Digite um número\"))\n",
        "  b = dobro(a)\n",
        "  print(f\"Valor inicial: {a}, e o dobro é: {b}\")"
      ],
      "metadata": {
        "id": "IvW3fGIPOBmZ"
      },
      "execution_count": null,
      "outputs": []
    },
    {
      "cell_type": "markdown",
      "source": [
        "Exercício: Faça uma função que receba um número inteiro e retorne True se o número for e False se o número for impar. Dica para o nome da função: ehPar\n",
        "Após criar a função, teste com a entrada de um valor se a mesma está funcionando\n",
        "\n"
      ],
      "metadata": {
        "id": "EBg9t2syRIWR"
      }
    },
    {
      "cell_type": "code",
      "source": [
        "def ehPar(numero):\n",
        "\n",
        "  if x % 2 == 0:\n",
        "    return True\n",
        "  else:\n",
        "    return False\n",
        "\n",
        "#testando a funçao recém criada\n",
        "x = int(input(\"Digite um nùmero:\"))\n",
        "ehPar(x)\n",
        "\n",
        "if (ehPar(5)):\n",
        "  print(f\"O múmero {x} é par!\")\n",
        "else:\n",
        "   print(f\"O múmero {x} é ímpar!\")"
      ],
      "metadata": {
        "colab": {
          "base_uri": "https://localhost:8080/"
        },
        "id": "8H4yOTMhRpvo",
        "outputId": "1b78e056-d198-4802-e4fb-c33c1da11bd7"
      },
      "execution_count": null,
      "outputs": [
        {
          "output_type": "stream",
          "name": "stdout",
          "text": [
            "Digite um nùmero:5\n",
            "O múmero 5 é ímpar!\n"
          ]
        }
      ]
    }
  ]
}